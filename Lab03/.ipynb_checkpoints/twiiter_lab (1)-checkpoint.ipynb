{
 "cells": [
  {
   "cell_type": "code",
   "execution_count": 1,
   "metadata": {},
   "outputs": [],
   "source": [
    "import string\n",
    "import pandas as pd\n",
    "import numpy as np\n",
    "from nltk import word_tokenize\n",
    "from collections import Counter\n",
    "import operator\n",
    "from sklearn.preprocessing import MultiLabelBinarizer\n",
    "from sklearn.model_selection import train_test_split"
   ]
  },
  {
   "cell_type": "markdown",
   "metadata": {},
   "source": [
    "### Read Data"
   ]
  },
  {
   "cell_type": "code",
   "execution_count": 2,
   "metadata": {},
   "outputs": [
    {
     "data": {
      "text/html": [
       "<div>\n",
       "<style scoped>\n",
       "    .dataframe tbody tr th:only-of-type {\n",
       "        vertical-align: middle;\n",
       "    }\n",
       "\n",
       "    .dataframe tbody tr th {\n",
       "        vertical-align: top;\n",
       "    }\n",
       "\n",
       "    .dataframe thead th {\n",
       "        text-align: right;\n",
       "    }\n",
       "</style>\n",
       "<table border=\"1\" class=\"dataframe\">\n",
       "  <thead>\n",
       "    <tr style=\"text-align: right;\">\n",
       "      <th></th>\n",
       "      <th>id</th>\n",
       "      <th>text</th>\n",
       "      <th>sentiment</th>\n",
       "    </tr>\n",
       "  </thead>\n",
       "  <tbody>\n",
       "    <tr>\n",
       "      <th>0</th>\n",
       "      <td>1</td>\n",
       "      <td>@caprichOreality Fica assim não miga &amp;lt;3 Tud...</td>\n",
       "      <td>1</td>\n",
       "    </tr>\n",
       "    <tr>\n",
       "      <th>1</th>\n",
       "      <td>2</td>\n",
       "      <td>Parti me todo a descer a avenida de Gaia com o...</td>\n",
       "      <td>1</td>\n",
       "    </tr>\n",
       "    <tr>\n",
       "      <th>2</th>\n",
       "      <td>3</td>\n",
       "      <td>Amanhã é dia de dar um trato na palestra para ...</td>\n",
       "      <td>1</td>\n",
       "    </tr>\n",
       "    <tr>\n",
       "      <th>3</th>\n",
       "      <td>4</td>\n",
       "      <td>@thankovsky @patorebaichado eu também tenho :)...</td>\n",
       "      <td>1</td>\n",
       "    </tr>\n",
       "    <tr>\n",
       "      <th>4</th>\n",
       "      <td>5</td>\n",
       "      <td>ok. Sim. Aham. Tá. De boa. Vai lá. :) https://...</td>\n",
       "      <td>1</td>\n",
       "    </tr>\n",
       "    <tr>\n",
       "      <th>5</th>\n",
       "      <td>6</td>\n",
       "      <td>@Mancel_Mazi Bila brao go firsetek çêbú serçav...</td>\n",
       "      <td>1</td>\n",
       "    </tr>\n",
       "    <tr>\n",
       "      <th>6</th>\n",
       "      <td>7</td>\n",
       "      <td>@JoseAbrantes6 Prefiro amar o meu clube nas vi...</td>\n",
       "      <td>1</td>\n",
       "    </tr>\n",
       "    <tr>\n",
       "      <th>7</th>\n",
       "      <td>8</td>\n",
       "      <td>@Bel_Reedus Recomendamos que vá até uma loja C...</td>\n",
       "      <td>1</td>\n",
       "    </tr>\n",
       "    <tr>\n",
       "      <th>8</th>\n",
       "      <td>9</td>\n",
       "      <td>@CrizArtEX @_GlitchMC @SirZeusMCPE @cesargohan...</td>\n",
       "      <td>1</td>\n",
       "    </tr>\n",
       "    <tr>\n",
       "      <th>9</th>\n",
       "      <td>10</td>\n",
       "      <td>@peace2who jbg, sad ce ispasti da sam tracara :)</td>\n",
       "      <td>1</td>\n",
       "    </tr>\n",
       "    <tr>\n",
       "      <th>10</th>\n",
       "      <td>11</td>\n",
       "      <td>@pudimparfait BEM VINDA AO CLUBE :)</td>\n",
       "      <td>1</td>\n",
       "    </tr>\n",
       "    <tr>\n",
       "      <th>11</th>\n",
       "      <td>12</td>\n",
       "      <td>@me_catarinaa Bota que tem E adorei o ava :)</td>\n",
       "      <td>1</td>\n",
       "    </tr>\n",
       "    <tr>\n",
       "      <th>12</th>\n",
       "      <td>13</td>\n",
       "      <td>@gabiifreeiitas @b_maybarbosa Quando a may nao...</td>\n",
       "      <td>1</td>\n",
       "    </tr>\n",
       "    <tr>\n",
       "      <th>13</th>\n",
       "      <td>14</td>\n",
       "      <td>Se eu vos digo \"és parvo\" , \"não gosto de ti\" ...</td>\n",
       "      <td>1</td>\n",
       "    </tr>\n",
       "    <tr>\n",
       "      <th>14</th>\n",
       "      <td>15</td>\n",
       "      <td>@gabbs_f05 Melhor bum... Personagem do game :)</td>\n",
       "      <td>1</td>\n",
       "    </tr>\n",
       "    <tr>\n",
       "      <th>15</th>\n",
       "      <td>16</td>\n",
       "      <td>Finalmente sou o meu true self fartei-me das b...</td>\n",
       "      <td>1</td>\n",
       "    </tr>\n",
       "    <tr>\n",
       "      <th>16</th>\n",
       "      <td>17</td>\n",
       "      <td>@drifeatpoynter estou te dando atenção :)</td>\n",
       "      <td>1</td>\n",
       "    </tr>\n",
       "    <tr>\n",
       "      <th>17</th>\n",
       "      <td>18</td>\n",
       "      <td>@chico_the_boss @bah2310 @CarolinaMoutin Fofos :)</td>\n",
       "      <td>1</td>\n",
       "    </tr>\n",
       "    <tr>\n",
       "      <th>18</th>\n",
       "      <td>19</td>\n",
       "      <td>Já me começaram a cair lágrimas, boa. :)</td>\n",
       "      <td>1</td>\n",
       "    </tr>\n",
       "    <tr>\n",
       "      <th>19</th>\n",
       "      <td>20</td>\n",
       "      <td>@brozao_6 @bah2310 @CarolinaMoutin Fofo es tu ...</td>\n",
       "      <td>1</td>\n",
       "    </tr>\n",
       "    <tr>\n",
       "      <th>20</th>\n",
       "      <td>21</td>\n",
       "      <td>E chegou ao fim!! Um breve resumo do BEDA :) G...</td>\n",
       "      <td>1</td>\n",
       "    </tr>\n",
       "    <tr>\n",
       "      <th>21</th>\n",
       "      <td>22</td>\n",
       "      <td>como você também não é obrigado a achar meus í...</td>\n",
       "      <td>1</td>\n",
       "    </tr>\n",
       "    <tr>\n",
       "      <th>22</th>\n",
       "      <td>23</td>\n",
       "      <td>A puta morreu :)</td>\n",
       "      <td>1</td>\n",
       "    </tr>\n",
       "    <tr>\n",
       "      <th>23</th>\n",
       "      <td>24</td>\n",
       "      <td>@CarolinaMoutin @chico_the_boss @bah2310 Daque...</td>\n",
       "      <td>1</td>\n",
       "    </tr>\n",
       "    <tr>\n",
       "      <th>24</th>\n",
       "      <td>25</td>\n",
       "      <td>@DuDuarte11 @diinhaa28 hahaha muito obrigado!!...</td>\n",
       "      <td>1</td>\n",
       "    </tr>\n",
       "    <tr>\n",
       "      <th>25</th>\n",
       "      <td>26</td>\n",
       "      <td>todo mundo que fez bullying comigo virou otaku...</td>\n",
       "      <td>1</td>\n",
       "    </tr>\n",
       "    <tr>\n",
       "      <th>26</th>\n",
       "      <td>27</td>\n",
       "      <td>To tri feliz! Me dei uma cafeteira de presente :)</td>\n",
       "      <td>1</td>\n",
       "    </tr>\n",
       "    <tr>\n",
       "      <th>27</th>\n",
       "      <td>28</td>\n",
       "      <td>@RafaelalveSilva mas o senhor sumiu no segundo...</td>\n",
       "      <td>1</td>\n",
       "    </tr>\n",
       "    <tr>\n",
       "      <th>28</th>\n",
       "      <td>29</td>\n",
       "      <td>@asulado aqui gostam mais de pevides, mas o ma...</td>\n",
       "      <td>1</td>\n",
       "    </tr>\n",
       "    <tr>\n",
       "      <th>29</th>\n",
       "      <td>30</td>\n",
       "      <td>@LuckyTiago já ta com vergonha deles.. se sim ...</td>\n",
       "      <td>1</td>\n",
       "    </tr>\n",
       "    <tr>\n",
       "      <th>...</th>\n",
       "      <td>...</td>\n",
       "      <td>...</td>\n",
       "      <td>...</td>\n",
       "    </tr>\n",
       "    <tr>\n",
       "      <th>58066</th>\n",
       "      <td>58067</td>\n",
       "      <td>@FelipeMden Eu não consigo ver o tweet :(</td>\n",
       "      <td>0</td>\n",
       "    </tr>\n",
       "    <tr>\n",
       "      <th>58067</th>\n",
       "      <td>58068</td>\n",
       "      <td>dou um passo ela tá atrás, eu entro no banheir...</td>\n",
       "      <td>0</td>\n",
       "    </tr>\n",
       "    <tr>\n",
       "      <th>58068</th>\n",
       "      <td>58069</td>\n",
       "      <td>@heIikebieber to, você cagando pra mim me mago...</td>\n",
       "      <td>0</td>\n",
       "    </tr>\n",
       "    <tr>\n",
       "      <th>58069</th>\n",
       "      <td>58070</td>\n",
       "      <td>Quero o meu pc de volta, é tão mais rápido :(</td>\n",
       "      <td>0</td>\n",
       "    </tr>\n",
       "    <tr>\n",
       "      <th>58070</th>\n",
       "      <td>58071</td>\n",
       "      <td>@MrPotatoLBBH aaaa tendi, :( não fica triste, ...</td>\n",
       "      <td>0</td>\n",
       "    </tr>\n",
       "    <tr>\n",
       "      <th>58071</th>\n",
       "      <td>58072</td>\n",
       "      <td>Aaaaaahh mas eu lembro que uma vez fizeram iss...</td>\n",
       "      <td>0</td>\n",
       "    </tr>\n",
       "    <tr>\n",
       "      <th>58072</th>\n",
       "      <td>58073</td>\n",
       "      <td>quero tanto que o mitroglou entre :(</td>\n",
       "      <td>0</td>\n",
       "    </tr>\n",
       "    <tr>\n",
       "      <th>58073</th>\n",
       "      <td>58074</td>\n",
       "      <td>@leonor_m_l pelo menos tu já tens um fato de b...</td>\n",
       "      <td>0</td>\n",
       "    </tr>\n",
       "    <tr>\n",
       "      <th>58074</th>\n",
       "      <td>58075</td>\n",
       "      <td>aposto q n :(</td>\n",
       "      <td>0</td>\n",
       "    </tr>\n",
       "    <tr>\n",
       "      <th>58075</th>\n",
       "      <td>58076</td>\n",
       "      <td>Aquela sensação de quem vai reprovar o Semestr...</td>\n",
       "      <td>0</td>\n",
       "    </tr>\n",
       "    <tr>\n",
       "      <th>58076</th>\n",
       "      <td>58077</td>\n",
       "      <td>@bibitatto só curte os tweets,não responde :(</td>\n",
       "      <td>0</td>\n",
       "    </tr>\n",
       "    <tr>\n",
       "      <th>58077</th>\n",
       "      <td>58078</td>\n",
       "      <td>N tem pênalti :(</td>\n",
       "      <td>0</td>\n",
       "    </tr>\n",
       "    <tr>\n",
       "      <th>58078</th>\n",
       "      <td>58079</td>\n",
       "      <td>minha irmã vai embora amanhã e eu já tô tristi...</td>\n",
       "      <td>0</td>\n",
       "    </tr>\n",
       "    <tr>\n",
       "      <th>58079</th>\n",
       "      <td>58080</td>\n",
       "      <td>só porque eu queria pênaltis :(</td>\n",
       "      <td>0</td>\n",
       "    </tr>\n",
       "    <tr>\n",
       "      <th>58080</th>\n",
       "      <td>58081</td>\n",
       "      <td>Adeus Campo Grande :(</td>\n",
       "      <td>0</td>\n",
       "    </tr>\n",
       "    <tr>\n",
       "      <th>58081</th>\n",
       "      <td>58082</td>\n",
       "      <td>@thammymrv Pensei que meu Flu ia ganha hoje :(</td>\n",
       "      <td>0</td>\n",
       "    </tr>\n",
       "    <tr>\n",
       "      <th>58082</th>\n",
       "      <td>58083</td>\n",
       "      <td>@felipe_botelho Não, só vi o resultado das min...</td>\n",
       "      <td>0</td>\n",
       "    </tr>\n",
       "    <tr>\n",
       "      <th>58083</th>\n",
       "      <td>58084</td>\n",
       "      <td>quero morrer pq fui bater minha mão na parede ...</td>\n",
       "      <td>0</td>\n",
       "    </tr>\n",
       "    <tr>\n",
       "      <th>58084</th>\n",
       "      <td>58085</td>\n",
       "      <td>@slayngfresh @Hrainbownsx É o único jeito de s...</td>\n",
       "      <td>0</td>\n",
       "    </tr>\n",
       "    <tr>\n",
       "      <th>58085</th>\n",
       "      <td>58086</td>\n",
       "      <td>@brendamartinsfe :( diaba devia ter vino ontem...</td>\n",
       "      <td>0</td>\n",
       "    </tr>\n",
       "    <tr>\n",
       "      <th>58086</th>\n",
       "      <td>58087</td>\n",
       "      <td>Os próximos 5 minutos vão durar umas 2 horas :...</td>\n",
       "      <td>0</td>\n",
       "    </tr>\n",
       "    <tr>\n",
       "      <th>58087</th>\n",
       "      <td>58088</td>\n",
       "      <td>Pensa numa pessoa triste , eu tô dez vezes mai...</td>\n",
       "      <td>0</td>\n",
       "    </tr>\n",
       "    <tr>\n",
       "      <th>58088</th>\n",
       "      <td>58089</td>\n",
       "      <td>Alaninha foi embora :(</td>\n",
       "      <td>0</td>\n",
       "    </tr>\n",
       "    <tr>\n",
       "      <th>58089</th>\n",
       "      <td>58090</td>\n",
       "      <td>Mãe, tô com duas notas vermelhas do boletim :(</td>\n",
       "      <td>0</td>\n",
       "    </tr>\n",
       "    <tr>\n",
       "      <th>58090</th>\n",
       "      <td>58091</td>\n",
       "      <td>só queria jogar meu lolzinho :(</td>\n",
       "      <td>0</td>\n",
       "    </tr>\n",
       "    <tr>\n",
       "      <th>58091</th>\n",
       "      <td>58092</td>\n",
       "      <td>@TeatroBonecos Então quer dizer que você não v...</td>\n",
       "      <td>0</td>\n",
       "    </tr>\n",
       "    <tr>\n",
       "      <th>58092</th>\n",
       "      <td>58093</td>\n",
       "      <td>eu amo ele cantando demais :( queria ouvir ess...</td>\n",
       "      <td>0</td>\n",
       "    </tr>\n",
       "    <tr>\n",
       "      <th>58093</th>\n",
       "      <td>58094</td>\n",
       "      <td>Tô indo p hospital, minha tia veio aqui em cas...</td>\n",
       "      <td>0</td>\n",
       "    </tr>\n",
       "    <tr>\n",
       "      <th>58094</th>\n",
       "      <td>58095</td>\n",
       "      <td>@luisataveira sim :( aff quero</td>\n",
       "      <td>0</td>\n",
       "    </tr>\n",
       "    <tr>\n",
       "      <th>58095</th>\n",
       "      <td>58096</td>\n",
       "      <td>@limunvotka @AkioET Eu perdi o momento :(</td>\n",
       "      <td>0</td>\n",
       "    </tr>\n",
       "  </tbody>\n",
       "</table>\n",
       "<p>58096 rows × 3 columns</p>\n",
       "</div>"
      ],
      "text/plain": [
       "          id                                               text  sentiment\n",
       "0          1  @caprichOreality Fica assim não miga &lt;3 Tud...          1\n",
       "1          2  Parti me todo a descer a avenida de Gaia com o...          1\n",
       "2          3  Amanhã é dia de dar um trato na palestra para ...          1\n",
       "3          4  @thankovsky @patorebaichado eu também tenho :)...          1\n",
       "4          5  ok. Sim. Aham. Tá. De boa. Vai lá. :) https://...          1\n",
       "5          6  @Mancel_Mazi Bila brao go firsetek çêbú serçav...          1\n",
       "6          7  @JoseAbrantes6 Prefiro amar o meu clube nas vi...          1\n",
       "7          8  @Bel_Reedus Recomendamos que vá até uma loja C...          1\n",
       "8          9  @CrizArtEX @_GlitchMC @SirZeusMCPE @cesargohan...          1\n",
       "9         10   @peace2who jbg, sad ce ispasti da sam tracara :)          1\n",
       "10        11                @pudimparfait BEM VINDA AO CLUBE :)          1\n",
       "11        12       @me_catarinaa Bota que tem E adorei o ava :)          1\n",
       "12        13  @gabiifreeiitas @b_maybarbosa Quando a may nao...          1\n",
       "13        14  Se eu vos digo \"és parvo\" , \"não gosto de ti\" ...          1\n",
       "14        15     @gabbs_f05 Melhor bum... Personagem do game :)          1\n",
       "15        16  Finalmente sou o meu true self fartei-me das b...          1\n",
       "16        17          @drifeatpoynter estou te dando atenção :)          1\n",
       "17        18  @chico_the_boss @bah2310 @CarolinaMoutin Fofos :)          1\n",
       "18        19           Já me começaram a cair lágrimas, boa. :)          1\n",
       "19        20  @brozao_6 @bah2310 @CarolinaMoutin Fofo es tu ...          1\n",
       "20        21  E chegou ao fim!! Um breve resumo do BEDA :) G...          1\n",
       "21        22  como você também não é obrigado a achar meus í...          1\n",
       "22        23                                   A puta morreu :)          1\n",
       "23        24  @CarolinaMoutin @chico_the_boss @bah2310 Daque...          1\n",
       "24        25  @DuDuarte11 @diinhaa28 hahaha muito obrigado!!...          1\n",
       "25        26  todo mundo que fez bullying comigo virou otaku...          1\n",
       "26        27  To tri feliz! Me dei uma cafeteira de presente :)          1\n",
       "27        28  @RafaelalveSilva mas o senhor sumiu no segundo...          1\n",
       "28        29  @asulado aqui gostam mais de pevides, mas o ma...          1\n",
       "29        30  @LuckyTiago já ta com vergonha deles.. se sim ...          1\n",
       "...      ...                                                ...        ...\n",
       "58066  58067          @FelipeMden Eu não consigo ver o tweet :(          0\n",
       "58067  58068  dou um passo ela tá atrás, eu entro no banheir...          0\n",
       "58068  58069  @heIikebieber to, você cagando pra mim me mago...          0\n",
       "58069  58070      Quero o meu pc de volta, é tão mais rápido :(          0\n",
       "58070  58071  @MrPotatoLBBH aaaa tendi, :( não fica triste, ...          0\n",
       "58071  58072  Aaaaaahh mas eu lembro que uma vez fizeram iss...          0\n",
       "58072  58073               quero tanto que o mitroglou entre :(          0\n",
       "58073  58074  @leonor_m_l pelo menos tu já tens um fato de b...          0\n",
       "58074  58075                                      aposto q n :(          0\n",
       "58075  58076  Aquela sensação de quem vai reprovar o Semestr...          0\n",
       "58076  58077      @bibitatto só curte os tweets,não responde :(          0\n",
       "58077  58078                                   N tem pênalti :(          0\n",
       "58078  58079  minha irmã vai embora amanhã e eu já tô tristi...          0\n",
       "58079  58080                    só porque eu queria pênaltis :(          0\n",
       "58080  58081                              Adeus Campo Grande :(          0\n",
       "58081  58082     @thammymrv Pensei que meu Flu ia ganha hoje :(          0\n",
       "58082  58083  @felipe_botelho Não, só vi o resultado das min...          0\n",
       "58083  58084  quero morrer pq fui bater minha mão na parede ...          0\n",
       "58084  58085  @slayngfresh @Hrainbownsx É o único jeito de s...          0\n",
       "58085  58086  @brendamartinsfe :( diaba devia ter vino ontem...          0\n",
       "58086  58087  Os próximos 5 minutos vão durar umas 2 horas :...          0\n",
       "58087  58088  Pensa numa pessoa triste , eu tô dez vezes mai...          0\n",
       "58088  58089                             Alaninha foi embora :(          0\n",
       "58089  58090     Mãe, tô com duas notas vermelhas do boletim :(          0\n",
       "58090  58091                    só queria jogar meu lolzinho :(          0\n",
       "58091  58092  @TeatroBonecos Então quer dizer que você não v...          0\n",
       "58092  58093  eu amo ele cantando demais :( queria ouvir ess...          0\n",
       "58093  58094  Tô indo p hospital, minha tia veio aqui em cas...          0\n",
       "58094  58095                     @luisataveira sim :( aff quero          0\n",
       "58095  58096          @limunvotka @AkioET Eu perdi o momento :(          0\n",
       "\n",
       "[58096 rows x 3 columns]"
      ]
     },
     "execution_count": 2,
     "metadata": {},
     "output_type": "execute_result"
    }
   ],
   "source": [
    "df = pd.read_csv('db.csv', sep='\\t')"
   ]
  },
  {
   "cell_type": "markdown",
   "metadata": {},
   "source": [
    "### Getting sample"
   ]
  },
  {
   "cell_type": "code",
   "execution_count": 3,
   "metadata": {},
   "outputs": [],
   "source": [
    "df_0 = df[df['sentiment'] == 0].sample(n = int(0.05*df.shape[0]))\n",
    "df_1 = df[df['sentiment'] == 1].sample( n= int(0.05*df.shape[0]))"
   ]
  },
  {
   "cell_type": "code",
   "execution_count": 4,
   "metadata": {},
   "outputs": [],
   "source": [
    "df = df_0.append(df_1)"
   ]
  },
  {
   "cell_type": "code",
   "execution_count": 5,
   "metadata": {},
   "outputs": [
    {
     "data": {
      "text/plain": [
       "(5808, 3)"
      ]
     },
     "execution_count": 5,
     "metadata": {},
     "output_type": "execute_result"
    }
   ],
   "source": [
    "df.shape"
   ]
  },
  {
   "cell_type": "markdown",
   "metadata": {},
   "source": [
    "### Generate Tokens"
   ]
  },
  {
   "cell_type": "code",
   "execution_count": 6,
   "metadata": {},
   "outputs": [],
   "source": [
    "def remove_punctuation(text):\n",
    "    exclude = set(string.punctuation)\n",
    "    return ''.join(ch for ch in text if ch not in exclude)"
   ]
  },
  {
   "cell_type": "code",
   "execution_count": 7,
   "metadata": {},
   "outputs": [],
   "source": [
    "df['tokens'] = df.apply(lambda row: Counter(word_tokenize(remove_punctuation(row['text'].lower()))), axis=1)"
   ]
  },
  {
   "cell_type": "markdown",
   "metadata": {},
   "source": [
    "### Inverted Index"
   ]
  },
  {
   "cell_type": "code",
   "execution_count": 8,
   "metadata": {},
   "outputs": [],
   "source": [
    "indice_invertido = {}\n",
    "\n",
    "\n",
    "for token_list, _id in zip(df.tokens, df.id):\n",
    "    for token in token_list.keys():\n",
    "        if token not in indice_invertido.keys():\n",
    "            indice_invertido[token] = [_id]\n",
    "        else:\n",
    "            indice_invertido[token].append(_id)"
   ]
  },
  {
   "cell_type": "code",
   "execution_count": 9,
   "metadata": {},
   "outputs": [],
   "source": [
    "def idf(termo):\n",
    "    '''\n",
    "        Função que retorna o idf. Baseia-se na presença do termo nos documentos do corpus.\n",
    "        params:\n",
    "            termo (str): termo alvo a ser calculado o idf.\n",
    "        return:\n",
    "            (float): o idf do termo.\n",
    "    '''\n",
    "    \n",
    "    N = df.shape[0] # tamanho do corpus\n",
    "    return np.log(N/len(indice_invertido[termo.lower().strip()]))"
   ]
  },
  {
   "cell_type": "code",
   "execution_count": 10,
   "metadata": {},
   "outputs": [],
   "source": [
    "def tf(termo):\n",
    "    return len(indice_invertido[termo])"
   ]
  },
  {
   "cell_type": "markdown",
   "metadata": {},
   "source": [
    "### Calculating TF-IDF for each termn in tweets"
   ]
  },
  {
   "cell_type": "code",
   "execution_count": 11,
   "metadata": {},
   "outputs": [],
   "source": [
    "def get_tfidfs(tokens_list):\n",
    "    resp = {}\n",
    "    for token in tokens_list:\n",
    "        resp[token] = tf(token)*idf(token)\n",
    "    return resp"
   ]
  },
  {
   "cell_type": "code",
   "execution_count": 12,
   "metadata": {},
   "outputs": [],
   "source": [
    "def get_topics(tokens_list, n=5):\n",
    "    tfidfs = get_tfidfs(tokens_list)\n",
    "    \n",
    "    sorted_d = sorted(tfidfs.items(), key=operator.itemgetter(1),reverse=True)\n",
    "    \n",
    "    return [topic[0] for topic in sorted_d[:n]] \n",
    "    "
   ]
  },
  {
   "cell_type": "markdown",
   "metadata": {},
   "source": [
    "#### Getting topics for each tweet"
   ]
  },
  {
   "cell_type": "code",
   "execution_count": 13,
   "metadata": {
    "scrolled": true
   },
   "outputs": [],
   "source": [
    "df['topics'] = df.apply(lambda row: get_topics(row['tokens']), axis=1)"
   ]
  },
  {
   "cell_type": "code",
   "execution_count": 14,
   "metadata": {},
   "outputs": [],
   "source": [
    "df_processed = df[['id','topics', 'sentiment']]"
   ]
  },
  {
   "cell_type": "code",
   "execution_count": 15,
   "metadata": {},
   "outputs": [],
   "source": [
    "df_processed = df_processed.drop('topics', 1).join(df.topics.str.join('|').str.get_dummies())"
   ]
  },
  {
   "cell_type": "markdown",
   "metadata": {},
   "source": [
    "## Classifier"
   ]
  },
  {
   "cell_type": "markdown",
   "metadata": {},
   "source": [
    "### Split Data"
   ]
  },
  {
   "cell_type": "code",
   "execution_count": 21,
   "metadata": {},
   "outputs": [],
   "source": [
    "df_temp = df_processed[[i for i in list(df_processed.columns) if i not in ['id', 'sentiment']]]\n",
    "X = df_temp.as_matrix()"
   ]
  },
  {
   "cell_type": "code",
   "execution_count": 22,
   "metadata": {},
   "outputs": [],
   "source": [
    "y = df_processed[['sentiment']].as_matrix()"
   ]
  },
  {
   "cell_type": "code",
   "execution_count": 23,
   "metadata": {},
   "outputs": [],
   "source": [
    "X_train, X_test, y_train, y_test = train_test_split(X, y, test_size=0.75, random_state=1234)"
   ]
  },
  {
   "cell_type": "code",
   "execution_count": 24,
   "metadata": {},
   "outputs": [],
   "source": [
    "from sklearn.naive_bayes import GaussianNB\n",
    "gnb = GaussianNB()"
   ]
  },
  {
   "cell_type": "code",
   "execution_count": 26,
   "metadata": {},
   "outputs": [
    {
     "name": "stderr",
     "output_type": "stream",
     "text": [
      "/Users/antonioricardojr/anaconda3/lib/python3.6/site-packages/sklearn/utils/validation.py:578: DataConversionWarning: A column-vector y was passed when a 1d array was expected. Please change the shape of y to (n_samples, ), for example using ravel().\n",
      "  y = column_or_1d(y, warn=True)\n"
     ]
    }
   ],
   "source": [
    "model = gnb.fit(X_train, y_train)"
   ]
  },
  {
   "cell_type": "code",
   "execution_count": 27,
   "metadata": {},
   "outputs": [
    {
     "data": {
      "text/plain": [
       "GaussianNB(priors=None)"
      ]
     },
     "execution_count": 27,
     "metadata": {},
     "output_type": "execute_result"
    }
   ],
   "source": [
    "model"
   ]
  },
  {
   "cell_type": "markdown",
   "metadata": {},
   "source": [
    "### Prediction"
   ]
  },
  {
   "cell_type": "code",
   "execution_count": 170,
   "metadata": {},
   "outputs": [],
   "source": [
    "tweets = [\"@caprichOreality Fica assim não miga &lt;3 Tudo se arranja, que seja o que Deus quiser :)\", \n",
    "          \"Parti me todo a descer a avenida de Gaia com o skate :)\", \n",
    "          \"E chegou ao fim!! Um breve resumo do BEDA :) Gostei muito de fazer os posts todos dias este mês. Foi um mês... https://t.co/SsP0zidtU4\",\n",
    "            \"Fiquei acordada até agr pro meu pai falar que não tem o dinheiro da minha passagem\",\n",
    "         \"A dias q ñ durmo to cansado magoado exausto :(\"]"
   ]
  },
  {
   "cell_type": "code",
   "execution_count": 171,
   "metadata": {},
   "outputs": [],
   "source": [
    "tweets_processed = [tweet.split() for tweet in tweets ]"
   ]
  },
  {
   "cell_type": "code",
   "execution_count": 172,
   "metadata": {},
   "outputs": [
    {
     "data": {
      "text/plain": [
       "[['@caprichOreality',\n",
       "  'Fica',\n",
       "  'assim',\n",
       "  'não',\n",
       "  'miga',\n",
       "  '&lt;3',\n",
       "  'Tudo',\n",
       "  'se',\n",
       "  'arranja,',\n",
       "  'que',\n",
       "  'seja',\n",
       "  'o',\n",
       "  'que',\n",
       "  'Deus',\n",
       "  'quiser',\n",
       "  ':)'],\n",
       " ['Parti',\n",
       "  'me',\n",
       "  'todo',\n",
       "  'a',\n",
       "  'descer',\n",
       "  'a',\n",
       "  'avenida',\n",
       "  'de',\n",
       "  'Gaia',\n",
       "  'com',\n",
       "  'o',\n",
       "  'skate',\n",
       "  ':)'],\n",
       " ['E',\n",
       "  'chegou',\n",
       "  'ao',\n",
       "  'fim!!',\n",
       "  'Um',\n",
       "  'breve',\n",
       "  'resumo',\n",
       "  'do',\n",
       "  'BEDA',\n",
       "  ':)',\n",
       "  'Gostei',\n",
       "  'muito',\n",
       "  'de',\n",
       "  'fazer',\n",
       "  'os',\n",
       "  'posts',\n",
       "  'todos',\n",
       "  'dias',\n",
       "  'este',\n",
       "  'mês.',\n",
       "  'Foi',\n",
       "  'um',\n",
       "  'mês...',\n",
       "  'https://t.co/SsP0zidtU4'],\n",
       " ['Fiquei',\n",
       "  'acordada',\n",
       "  'até',\n",
       "  'agr',\n",
       "  'pro',\n",
       "  'meu',\n",
       "  'pai',\n",
       "  'falar',\n",
       "  'que',\n",
       "  'não',\n",
       "  'tem',\n",
       "  'o',\n",
       "  'dinheiro',\n",
       "  'da',\n",
       "  'minha',\n",
       "  'passagem'],\n",
       " ['A', 'dias', 'q', 'ñ', 'durmo', 'to', 'cansado', 'magoado', 'exausto', ':(']]"
      ]
     },
     "execution_count": 172,
     "metadata": {},
     "output_type": "execute_result"
    }
   ],
   "source": [
    "tweets_processed"
   ]
  },
  {
   "cell_type": "code",
   "execution_count": 173,
   "metadata": {},
   "outputs": [],
   "source": [
    "tweets_test = []"
   ]
  },
  {
   "cell_type": "markdown",
   "metadata": {},
   "source": [
    "### Vetoriza tweets capturados pela hashtag"
   ]
  },
  {
   "cell_type": "code",
   "execution_count": 174,
   "metadata": {},
   "outputs": [],
   "source": [
    "num_columns_to_train = X_train.shape[1]\n",
    "\n",
    "for tweet_topics in tweets_processed:\n",
    "    row = np.zeros((df_resp.shape[1],), dtype=int)\n",
    "    \n",
    "    #fill the row\n",
    "    for topic in tweet_topics:\n",
    "        if topic in (df_processed.columns.values):\n",
    "            idx = df_processed.columns.get_loc(topic)\n",
    "            row[idx] = 1\n",
    "    \n",
    "    tweets_test.append(row)"
   ]
  },
  {
   "cell_type": "code",
   "execution_count": 176,
   "metadata": {},
   "outputs": [],
   "source": [
    "resp = model.predict(tweets_test)"
   ]
  },
  {
   "cell_type": "code",
   "execution_count": 179,
   "metadata": {},
   "outputs": [
    {
     "data": {
      "text/plain": [
       "['@caprichOreality Fica assim não miga &lt;3 Tudo se arranja, que seja o que Deus quiser :)',\n",
       " 'Parti me todo a descer a avenida de Gaia com o skate :)',\n",
       " 'E chegou ao fim!! Um breve resumo do BEDA :) Gostei muito de fazer os posts todos dias este mês. Foi um mês... https://t.co/SsP0zidtU4',\n",
       " 'Fiquei acordada até agr pro meu pai falar que não tem o dinheiro da minha passagem',\n",
       " 'A dias q ñ durmo to cansado magoado exausto :(']"
      ]
     },
     "execution_count": 179,
     "metadata": {},
     "output_type": "execute_result"
    }
   ],
   "source": [
    "[' '.join(tweet) for tweet in tweets_processed]"
   ]
  },
  {
   "cell_type": "code",
   "execution_count": 177,
   "metadata": {},
   "outputs": [
    {
     "data": {
      "text/plain": [
       "array([0, 1, 1, 0, 1])"
      ]
     },
     "execution_count": 177,
     "metadata": {},
     "output_type": "execute_result"
    }
   ],
   "source": [
    "resp"
   ]
  }
 ],
 "metadata": {
  "kernelspec": {
   "display_name": "Python 3",
   "language": "python",
   "name": "python3"
  },
  "language_info": {
   "codemirror_mode": {
    "name": "ipython",
    "version": 3
   },
   "file_extension": ".py",
   "mimetype": "text/x-python",
   "name": "python",
   "nbconvert_exporter": "python",
   "pygments_lexer": "ipython3",
   "version": "3.6.5"
  }
 },
 "nbformat": 4,
 "nbformat_minor": 2
}
