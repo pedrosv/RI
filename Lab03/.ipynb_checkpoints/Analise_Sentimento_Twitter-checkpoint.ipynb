{
 "cells": [
  {
   "cell_type": "markdown",
   "metadata": {},
   "source": [
    " #                 [Lab 03] Analise de sentimentos do Twitter\n",
    "\n",
    "Projeto que tenta analisar como os brasileiros reagiram com a notícia que Neymar nao foi indicado ao título de melhor do mundo\n",
    "\n"
   ]
  },
  {
   "cell_type": "code",
   "execution_count": 1,
   "metadata": {},
   "outputs": [],
   "source": [
    "import string\n",
    "import re,string\n",
    "import pandas as pd\n",
    "import numpy as np\n",
    "import nltk\n",
    "from collections import Counter\n",
    "import operator\n",
    "from sklearn.preprocessing import MultiLabelBinarizer\n",
    "from sklearn.naive_bayes import GaussianNB\n",
    "from sklearn.naive_bayes import MultinomialNB\n",
    "from sklearn.model_selection import train_test_split\n",
    "from sklearn.metrics import accuracy_score\n",
    "from sklearn.metrics import confusion_matrix"
   ]
  },
  {
   "cell_type": "markdown",
   "metadata": {},
   "source": [
    "### Lendo dados\n",
    "\n",
    "Foram coletados quase 60 mil twittes com emojis e classificados como positivos ou negativos, com base nos emojis utilizados. \n",
    "\n",
    "Os dados estao no arquivo db.csv e eh utilizado o codigo abaixo para ler esse arquivo."
   ]
  },
  {
   "cell_type": "code",
   "execution_count": 2,
   "metadata": {},
   "outputs": [],
   "source": [
    "df = pd.read_csv('db.csv', sep='\\t') \n"
   ]
  },
  {
   "cell_type": "markdown",
   "metadata": {},
   "source": [
    "### Coletando uma amostra\n",
    "\n",
    "Para que possamos trabalhar de forma eficiente (tempo de execucao, memoria), coletamos uma amostra desse data frame"
   ]
  },
  {
   "cell_type": "code",
   "execution_count": 3,
   "metadata": {},
   "outputs": [],
   "source": [
    "df_0 = df[df['sentiment'] == 0].sample(n = int(0.1*df.shape[0])) #pega 10% dos tweets negativos\n",
    "df_1 = df[df['sentiment'] == 1].sample(n = int(0.1*df.shape[0])) #pega 10% dos tweets positivos\n",
    "\n",
    "df = df_0.append(df_1)\n"
   ]
  },
  {
   "cell_type": "markdown",
   "metadata": {},
   "source": [
    "### Sera necessario fazer uma limpeza nos tweets\n",
    "\n",
    "Abaixo estao alguns metodos para limpar os tweets antes de processa-los"
   ]
  },
  {
   "cell_type": "code",
   "execution_count": 4,
   "metadata": {},
   "outputs": [],
   "source": [
    "def remove_punctuation(text):\n",
    "    exclude = set(string.punctuation)\n",
    "    return ''.join(ch for ch in text if ch not in exclude)\n",
    "\n",
    "def remove_mention(text):\n",
    "    new_text = \"\"\n",
    "    list_of_words = text.split(\" \")\n",
    "    for word in list_of_words:\n",
    "        if word[0] != \"@\":\n",
    "            new_text = new_text + word + \" \"\n",
    "    return new_text.rstrip()\n",
    "\n",
    "def remove_links(text):\n",
    "    link_regex    = re.compile('((https?):((//)|(\\\\\\\\))+([\\w\\d:#@%/;$()~_?\\+-=\\\\\\.&](#!)?)*)', re.DOTALL)\n",
    "    links         = re.findall(link_regex, text)\n",
    "    for link in links:\n",
    "        text = text.replace(link[0], ', ')    \n",
    "    return text\n",
    "\n",
    "def remove_pics(text):\n",
    "    new_text = \"\"\n",
    "    list_of_words = text.split(\" \")\n",
    "    for word in list_of_words:\n",
    "        if len(word) < 32:  ##ver a representacao da imagem melhor para evitar de remover outras palavras\n",
    "            new_text = new_text + word + \" \"\n",
    "    return new_text.rstrip()\n",
    "\n",
    "def is_number(s):\n",
    "    try:\n",
    "        float(s)\n",
    "        return True\n",
    "    except ValueError:\n",
    "        return False\n",
    "    \n",
    "def remove_numbers(text):\n",
    "    new_text = \"\"\n",
    "    list_of_words = text.split(\" \")\n",
    "    for word in list_of_words:\n",
    "        if not(is_number(word)) :\n",
    "            new_text = new_text + word + \" \"\n",
    "    return new_text.rstrip()\n",
    "\n",
    "def clean_tweet(text):\n",
    "    return remove_numbers(remove_punctuation(remove_links(remove_pics(remove_mention(text)))))\n"
   ]
  },
  {
   "cell_type": "markdown",
   "metadata": {},
   "source": [
    "### Indice invertido\n",
    "\n",
    "Cria o Indice invertido, como foi visto no Lab01, para que possa "
   ]
  },
  {
   "cell_type": "code",
   "execution_count": 5,
   "metadata": {},
   "outputs": [],
   "source": [
    "#cria um mapa de tokens relacionando o indice do tweet e suas palavras\n",
    "\n",
    "df['tokens'] = df.apply(lambda row: Counter(nltk.word_tokenize(clean_tweet(row['text'].lower()))), axis=1)\n",
    "\n",
    "# cria o indice invertido a partir dos tokens gerados\n",
    "\n",
    "inverted_index = {}\n",
    "\n",
    "for token_list, _id in zip(df.tokens, df.id):\n",
    "    for token in token_list.keys():\n",
    "        if token not in inverted_index.keys():\n",
    "            inverted_index[token] = [_id]\n",
    "        else:\n",
    "            inverted_index[token].append(_id)"
   ]
  },
  {
   "cell_type": "markdown",
   "metadata": {},
   "source": [
    "### TF-IDF\n",
    "\n",
    "Funcoes para calcular o TF-IDF de cada termo do Tweet"
   ]
  },
  {
   "cell_type": "code",
   "execution_count": 6,
   "metadata": {},
   "outputs": [],
   "source": [
    "def idf(term):\n",
    "    N = df.shape[0] # tamanho do corpus\n",
    "    return np.log(N/len(inverted_index[term.lower().strip()]))"
   ]
  },
  {
   "cell_type": "code",
   "execution_count": 7,
   "metadata": {},
   "outputs": [],
   "source": [
    "def tf(term):\n",
    "    return len(inverted_index[term])"
   ]
  },
  {
   "cell_type": "code",
   "execution_count": 8,
   "metadata": {},
   "outputs": [],
   "source": [
    "def get_tfidfs(tokens_list):\n",
    "    resp = {}\n",
    "    for token in tokens_list:\n",
    "        resp[token] = tf(token)*idf(token)\n",
    "    return resp"
   ]
  },
  {
   "cell_type": "markdown",
   "metadata": {},
   "source": [
    "### Topicos\n",
    "\n",
    "#### Seleciona as palavras mais relevantes daquele tweet"
   ]
  },
  {
   "cell_type": "code",
   "execution_count": 57,
   "metadata": {},
   "outputs": [],
   "source": [
    "def get_topics(tokens_list, n= 20):\n",
    "    tfidfs = get_tfidfs(tokens_list)\n",
    "    \n",
    "    sorted_d = sorted(tfidfs.items(), key=operator.itemgetter(1),reverse=True)\n",
    "    \n",
    "    return [topic[0] for topic in sorted_d[:n]] "
   ]
  },
  {
   "cell_type": "code",
   "execution_count": 58,
   "metadata": {},
   "outputs": [],
   "source": [
    "df['topics'] = df.apply(lambda row: get_topics(row['tokens']), axis=1)"
   ]
  },
  {
   "cell_type": "code",
   "execution_count": 59,
   "metadata": {},
   "outputs": [],
   "source": [
    "df['topics'] = df.apply(lambda row: get_topics(row['tokens']), axis=1)\n",
    "df_processed = df[['id','topics', 'sentiment']]"
   ]
  },
  {
   "cell_type": "code",
   "execution_count": 60,
   "metadata": {},
   "outputs": [],
   "source": [
    "df_processed = df_processed.drop('topics', 1).join(df.topics.str.join('|').str.get_dummies(), lsuffix = \"_\")"
   ]
  },
  {
   "cell_type": "markdown",
   "metadata": {},
   "source": [
    "### Dividir os dados\n",
    "\n",
    "Nesse ponto precisamos de uma porcentagem dos dados para treinar o modelo e outra porcentagem para testar o modelo. Escolhi 80% pra treino e 20% pra teste"
   ]
  },
  {
   "cell_type": "code",
   "execution_count": 61,
   "metadata": {},
   "outputs": [],
   "source": [
    "df_temp = df_processed[[i for i in list(df_processed.columns) if i not in ['id', 'sentiment']]]\n",
    "\n",
    "X = df_temp.as_matrix()\n",
    "y = df_processed[['sentiment']].as_matrix()"
   ]
  },
  {
   "cell_type": "code",
   "execution_count": 62,
   "metadata": {},
   "outputs": [],
   "source": [
    "X_train, X_test, y_train, y_test = train_test_split(X, y, test_size=0.20, random_state=34)"
   ]
  },
  {
   "cell_type": "markdown",
   "metadata": {},
   "source": [
    "## Classificador\n",
    "\n",
    "Aqui criamos o modelo a partir do algoritmo Naive Bayes Multinomial."
   ]
  },
  {
   "cell_type": "code",
   "execution_count": 63,
   "metadata": {},
   "outputs": [],
   "source": [
    "mnb = MultinomialNB()\n",
    "model_mnb = mnb.fit(X_train, y_train.ravel())"
   ]
  },
  {
   "cell_type": "code",
   "execution_count": 64,
   "metadata": {},
   "outputs": [],
   "source": [
    "from sklearn.naive_bayes import BernoulliNB\n",
    "bnb = BernoulliNB()\n",
    "model_bnb = bnb.fit(X_train, y_train.ravel())"
   ]
  },
  {
   "cell_type": "markdown",
   "metadata": {},
   "source": [
    "## Teste do modelo\n",
    "\n",
    "Com o modelo ja treinado agore precisamos testa-lo."
   ]
  },
  {
   "cell_type": "code",
   "execution_count": 67,
   "metadata": {},
   "outputs": [],
   "source": [
    "#definimos \n",
    "y_pred = model_mnb.predict(X_test)\n",
    "y_true = y_test"
   ]
  },
  {
   "cell_type": "markdown",
   "metadata": {},
   "source": [
    "Usaremos inicialmente a acurácia. Que mostra a porcentagem de acertos/numero total"
   ]
  },
  {
   "cell_type": "code",
   "execution_count": 68,
   "metadata": {},
   "outputs": [
    {
     "data": {
      "text/plain": [
       "0.7314974182444062"
      ]
     },
     "execution_count": 68,
     "metadata": {},
     "output_type": "execute_result"
    }
   ],
   "source": [
    "\n",
    "accuracy_score(y_true, y_pred)"
   ]
  },
  {
   "cell_type": "markdown",
   "metadata": {},
   "source": [
    "Usaremos também matriz de confusão para saber mais detalhes dos acertos e erros"
   ]
  },
  {
   "cell_type": "code",
   "execution_count": 56,
   "metadata": {},
   "outputs": [
    {
     "data": {
      "text/plain": [
       "array([[966, 218],\n",
       "       [403, 737]])"
      ]
     },
     "execution_count": 56,
     "metadata": {},
     "output_type": "execute_result"
    }
   ],
   "source": [
    "confusion_matrix(y_true,y_pred)"
   ]
  },
  {
   "cell_type": "markdown",
   "metadata": {},
   "source": [
    "## Melhoramento o modelo"
   ]
  },
  {
   "cell_type": "markdown",
   "metadata": {},
   "source": [
    "Antes de chegar nesse resultado do modelo, foi necessário muitos testes e mudanças. \n",
    "\n",
    "Minha primeira implementação utilizava o algoritmo Gaussian Naive Bayes para classificação pois foi o primeiro que encontrei que utilizava naive bayes. Também utilizei apenas 5% da base de dados (cerca de 3 mil tweets) e selecionava apenas 3 palavras como tópicos de cada tweet. Foi uma escolha que visava a agilidade de processamento e testes durante a programação. Com essas configurações, a acurácia era pouco mais de 50%. E vendo mais detalhes, utilizando a matriz de confusão, percebi que ele classificava quase todos os tweets como positivo. Por isso acertava todos os positivos e errava quase todos os negativos. \n",
    "\n",
    "Imaginei inicialmente que poderia ser o número de tópicos, então resolvi aumentar de 3 para 5. De fato, houve uma melhora na acurácia porém continuava abaixo 55%. Aumentei o número de tópicos para 10, depois 20 e então consegui chegar aos 55%. O problema que por mais que eu aumentasse o número de tópicos, nesse ponto o valor não melhorava. Resolvi então aumentar o número da amostra. Agora coletava 2%, porém nesse ponto comecei a ter problemas de estouro de memória. então vi que não adiantava forçar mais, agora a mudança tinha que ser no modelo ou na forma de tratar os tweets. \n",
    "\n",
    "Então fiz diversas limpezas nos tweets, removendo assim mentions, links e imagens. Tudo isso proporcionou uma pequena melhoria, mas nada muito mais do que 66% de acurácia. \n",
    "\n",
    "Estava muito insatisfeito com meu modelo. Pensei então em utilizar outro algoritmo, uma rede neural, por exemplo. E nessa pesquisa descobri que havia outras variações do naive bayes. E então utilizando o algoritmo Multinominal Naive Bayes foi possível atingir os 75%. \n",
    "\n",
    "Provavelmente uma melhor limpeza nos tweets, uma melhor classificação (não utilizando apenas emojis para classificar, adicionar uma nova categoria para os neutros) ou utilizar uma amostra maior, seria possível melhorar essa acurácia. Mas a níveis de estudo acredito que foi encontrado um bom modelo."
   ]
  },
  {
   "cell_type": "markdown",
   "metadata": {},
   "source": [
    "## Uso do modelo\n",
    "\n",
    "Agora que temos um bom modelo, gostaria de testa-lo em um conjunto de 30 tweets, classificados à mão por mim,  sobre a entrevista de bolsonaro no roda viva. Vamos ver como nosso modelo sai em outros contextos. \n",
    "\n"
   ]
  },
  {
   "cell_type": "markdown",
   "metadata": {},
   "source": [
    "Precisamos primeiro pegar esses dados e deixa-los na mesma dimensão que o classificador consiga ler."
   ]
  },
  {
   "cell_type": "code",
   "execution_count": 71,
   "metadata": {},
   "outputs": [
    {
     "ename": "SyntaxError",
     "evalue": "invalid syntax (<ipython-input-71-ab85129e4add>, line 1)",
     "output_type": "error",
     "traceback": [
      "\u001b[0;36m  File \u001b[0;32m\"<ipython-input-71-ab85129e4add>\"\u001b[0;36m, line \u001b[0;32m1\u001b[0m\n\u001b[0;31m    tweets = [\"É difícil escolher a maior barbaridade q Bolsonaro disse no Roda Viva.Mas dizer que os africanos eram os responsáveis pela própria escravidão q os martirizou e q os portugueses ñ pisaram na África ,mostra a covardia explícita deste racista ao tentar transformar a vítima em algoz.\",\"se depois dessa entrevista do bolsonaro no roda viva vc ainda vai votar nele na moral só digo uma coisa:da unfollow e me corta pq tem que ser MUITO BURRO, não precisa ter nem 2 neuronios\", \"Dps do Bolsonaro no roda viva ficou claro que quem apoia ele tem algum problema mental\",\"É muita covardia comparar essa entrevista do Ciro Gomes com a palhaçada que se deu no Roda Viva com Bolsonaro. Não entendo como alguém pode cogitar aquela mula, comparado ao Ciro ou a qualquer outro candidato.\", \"Vi a entrevista do Bolsonaro pro roda viva e fui ler os comentários, fiquei horrorizada com o tanto de gente que o apoia, não sei mais o que vai virar\",\"Eu sinto tanto nojo dos vídeos do Bolsonaro no Roda Viva que não consigo nem compartilhar pra mostrar o quanto ele é uma merda Não é possível esse cara ter tanto fã burro meu pai do céu\",\"Você viu o Bolsonaro pagando mico no RodaViva? Elege ele pra ver a vergonha internacional que nós iremos passar!\", \"Bolsonaro no Roda Viva se mostrou totalmente incapaz de governar algo, ele não tá apto nem pra gerir uma bodega quem dera um país. Fora o conhecimento zero em história, o saudosismo a ditadura passando pano pra tortura e os assassinatos, e outras baboseiras ditas, ele é um asno.\",\"o indivíduo que assistiu o roda viva com bolsonaro e ainda assim ESCOLHE votar nele tem mais é que receber o título de otário mesmo\", \"eu to chocada com as respostas que o bolsonaro deu no roda viva mano MANO M A N O como, COMO, C O M O alguém consegue ver um bom futuro pro nosso país com esse cara na presidência? PUTA MERDA\", \"Depois das aberrações de ontem de Bolsonaro, é ainda mais claro que a educação pública precisa incluir a defesa dos direitos humanos e da democracia. Sem acertar contas com o passado, não há presente nem futuro. Como se diz em psicanálise, é um passado que não passa.\", \"confesso q não consegui assistir a entrevista inteira do Bolsonaro no Roda Viva.me faz muito mal ouvir aquele ser odioso falar, faz muito mal pro Brasil darem voz pra aquilo, é péssimo pro povo brasileiro, já tão sofrido, sentir o ódio se propagando enquanto o amor segue preso.\", \"O #RodaViva de ontem mostrou novamente que não precisamos perder nosso tempo difamando o bolsonaro. Ele já faz isso muito bem sozinho.¯\\_(ツ)_/¯\", \"Eu creio que o Bolsonaro no #RodaViva diminuiu ainda mais as chances dele vencer alguma coisa Você pode ser \"anti-esquerda\", mas você não é idiota a ponto de votar em alguém claramente despreparado Fale o que quiser, mas não diga que ele é preparado para ser presidente.\", \"Assistindo o #RodaViva com o Bolsonaro e não consigo sentir nada além de medo. Medo de ver pessoas apoiando alguém desequilibrado apenas por estarem desesperados por mudanças. Medo ao imaginar alguém como ele governando um país.\", \"Os jornalistas do Roda Viva deveriam descer do pedestal pq o Bolsonaro se saiu muito melhor que eles. #OsPingosNosIs\",\"Pensando na maneira que foi conduzida a última entrevista no Roda Viva será mesmo que nosso candidato Bolsonaro deverá participar nas demais?! O que vimos foi um bando de abutres tentando desqualifica-lo e ele tem mto mais a oferecer do que ficar dando aula de história!!\", \"O Bolsonaro foi perfeito em todas as questões, os esquerdoburros do @rodaviva não conseguiram sequer pegar a placa da jamanta que os atropelou! 😂😂😂\", \"ESPETACULAR!!! RECORDE QUE NEM ESSE DUVIDO Q OUTRO POLÍTICO BATERÁ NOS PRÓXIMOS 50 ANOS!Em menos de 48 horas, o vídeo do @jairbolsonaro no Roda Viva acabou de ultrapassar a absurda marca de 4 MILHÕES DE VISUALIZAÇÕES (+1 milhão em 20 horas) e AINDA CONTINUA EM ALTA no YouTube!\", \"Roda viva mostrou a face mais estúpida de um jornalismo descomprometido com a verdade, totalmente amador e ideológico. Simplesmente ridículo. Um tribunal com juízes de araque. Bolsonaro só ganhou. De novo.\", \"Paulo Figueiredo resumiu “vocês viram o Bolsonaro no Roda Viva? Eu vi um brasileiro comum falando verdades a uma classe jornalística estúpida, ideológica, vagabunda, despreparada e soberba. Poucas vezes vi algo tão ilustrativo do momento em que vivemos “ #BolsonaroNoRodaViva\",\"Jair Bolsonaro sai fortalecido do programa Roda Viva. O método de inserir apenas militantes para derrubá-lo foi um tiro no pé. Militantes são monótonos, possuem retórica limitada e não têm compromisso com a realidade dos fatos.\", \"Jair Bolsonaro 7 x 1 Roda Viva  A grande mídia precisa refletir, não da mais para vender MILITANTE como JORNALISTA, este truque não engana mais ninguém ...\",\"Falam que a gente é burro por apoiar Bolsonaro, mas apoia o socialismo e ainda diz que Lula é inocente. Não é que a gente seja burro, são vocês que não aceitam a REALIDADE.  É @jairbolsonaro 2018 sim, se não gostou vai pra cuba.\", \"Resumo do #RodaViva com BOLSONARO -Ditadura -Ditadura -Tortura -Quilombolas -Jesus era refugiado -Wikipedia -Ditadura - Exército Saúde? NÃO Saneamento básico? NÃO. Educação? NÃO.Segurança? NÃO.Não vimos uma entrevista. Vimos um folhetim esquerdista baseado na WIKIPEDIA!\", \"O Roda Viva empurrou mais a faixa para o Jair. @jairbolsonaro é uma espécie de Rocky Balboa, quanto mais apanha, levanta mais forte e motivado.\",\"É visível o ódio desses esquerdopatas pelo Bolsonaro. Se Deus quiser, Bolsonaro presidente,\", \"Porra hein, achei muita sacanagem esses jornalixos enchendo o saco do Bolsonaro, sinceramente nem acho que ele precisava disso, deve ser muito estressante pra ele 😤😤😡😡\", \"Fizeram de propósito só passado e mimimi para boicotar a entrevista\", \"Meu caro, você mitou grandemente! 😍\"]\u001b[0m\n\u001b[0m                                                                                                                                                                                                                                                                                                                                                                                                                                                                                                                                                                                                                                                                                                                                                                                                                                                                                                                                                                                                                                                                                                                                                                                                                                                                                                                                                                                                                                                                                                                                                                                                                                                                                                                                                                                                                                                                                                                                                                                                                                                                                                                                                                                                                                                                                                                                                                                                                                                                                                                                                                                                                                                                                                                                                                               ^\u001b[0m\n\u001b[0;31mSyntaxError\u001b[0m\u001b[0;31m:\u001b[0m invalid syntax\n"
     ]
    }
   ],
   "source": [
    "tweets = [\"É difícil escolher a maior barbaridade q Bolsonaro disse no Roda Viva.Mas dizer que os africanos eram os responsáveis pela própria escravidão q os martirizou e q os portugueses ñ pisaram na África ,mostra a covardia explícita deste racista ao tentar transformar a vítima em algoz.\",\"se depois dessa entrevista do bolsonaro no roda viva vc ainda vai votar nele na moral só digo uma coisa:da unfollow e me corta pq tem que ser MUITO BURRO, não precisa ter nem 2 neuronios\", \"Dps do Bolsonaro no roda viva ficou claro que quem apoia ele tem algum problema mental\",\"É muita covardia comparar essa entrevista do Ciro Gomes com a palhaçada que se deu no Roda Viva com Bolsonaro. Não entendo como alguém pode cogitar aquela mula, comparado ao Ciro ou a qualquer outro candidato.\", \"Vi a entrevista do Bolsonaro pro roda viva e fui ler os comentários, fiquei horrorizada com o tanto de gente que o apoia, não sei mais o que vai virar\",\"Eu sinto tanto nojo dos vídeos do Bolsonaro no Roda Viva que não consigo nem compartilhar pra mostrar o quanto ele é uma merda Não é possível esse cara ter tanto fã burro meu pai do céu\",\"Você viu o Bolsonaro pagando mico no RodaViva? Elege ele pra ver a vergonha internacional que nós iremos passar!\", \"Bolsonaro no Roda Viva se mostrou totalmente incapaz de governar algo, ele não tá apto nem pra gerir uma bodega quem dera um país. Fora o conhecimento zero em história, o saudosismo a ditadura passando pano pra tortura e os assassinatos, e outras baboseiras ditas, ele é um asno.\",\"o indivíduo que assistiu o roda viva com bolsonaro e ainda assim ESCOLHE votar nele tem mais é que receber o título de otário mesmo\", \"eu to chocada com as respostas que o bolsonaro deu no roda viva mano MANO M A N O como, COMO, C O M O alguém consegue ver um bom futuro pro nosso país com esse cara na presidência? PUTA MERDA\", \"Depois das aberrações de ontem de Bolsonaro, é ainda mais claro que a educação pública precisa incluir a defesa dos direitos humanos e da democracia. Sem acertar contas com o passado, não há presente nem futuro. Como se diz em psicanálise, é um passado que não passa.\", \"confesso q não consegui assistir a entrevista inteira do Bolsonaro no Roda Viva.me faz muito mal ouvir aquele ser odioso falar, faz muito mal pro Brasil darem voz pra aquilo, é péssimo pro povo brasileiro, já tão sofrido, sentir o ódio se propagando enquanto o amor segue preso.\", \"O #RodaViva de ontem mostrou novamente que não precisamos perder nosso tempo difamando o bolsonaro. Ele já faz isso muito bem sozinho.¯\\_(ツ)_/¯\", \"Eu creio que o Bolsonaro no #RodaViva diminuiu ainda mais as chances dele vencer alguma coisa Você pode ser \"anti-esquerda\", mas você não é idiota a ponto de votar em alguém claramente despreparado Fale o que quiser, mas não diga que ele é preparado para ser presidente.\", \"Assistindo o #RodaViva com o Bolsonaro e não consigo sentir nada além de medo. Medo de ver pessoas apoiando alguém desequilibrado apenas por estarem desesperados por mudanças. Medo ao imaginar alguém como ele governando um país.\", \"Os jornalistas do Roda Viva deveriam descer do pedestal pq o Bolsonaro se saiu muito melhor que eles. #OsPingosNosIs\",\"Pensando na maneira que foi conduzida a última entrevista no Roda Viva será mesmo que nosso candidato Bolsonaro deverá participar nas demais?! O que vimos foi um bando de abutres tentando desqualifica-lo e ele tem mto mais a oferecer do que ficar dando aula de história!!\", \"O Bolsonaro foi perfeito em todas as questões, os esquerdoburros do @rodaviva não conseguiram sequer pegar a placa da jamanta que os atropelou! 😂😂😂\", \"ESPETACULAR!!! RECORDE QUE NEM ESSE DUVIDO Q OUTRO POLÍTICO BATERÁ NOS PRÓXIMOS 50 ANOS!Em menos de 48 horas, o vídeo do @jairbolsonaro no Roda Viva acabou de ultrapassar a absurda marca de 4 MILHÕES DE VISUALIZAÇÕES (+1 milhão em 20 horas) e AINDA CONTINUA EM ALTA no YouTube!\", \"Roda viva mostrou a face mais estúpida de um jornalismo descomprometido com a verdade, totalmente amador e ideológico. Simplesmente ridículo. Um tribunal com juízes de araque. Bolsonaro só ganhou. De novo.\", \"Paulo Figueiredo resumiu “vocês viram o Bolsonaro no Roda Viva? Eu vi um brasileiro comum falando verdades a uma classe jornalística estúpida, ideológica, vagabunda, despreparada e soberba. Poucas vezes vi algo tão ilustrativo do momento em que vivemos “ #BolsonaroNoRodaViva\",\"Jair Bolsonaro sai fortalecido do programa Roda Viva. O método de inserir apenas militantes para derrubá-lo foi um tiro no pé. Militantes são monótonos, possuem retórica limitada e não têm compromisso com a realidade dos fatos.\", \"Jair Bolsonaro 7 x 1 Roda Viva  A grande mídia precisa refletir, não da mais para vender MILITANTE como JORNALISTA, este truque não engana mais ninguém ...\",\"Falam que a gente é burro por apoiar Bolsonaro, mas apoia o socialismo e ainda diz que Lula é inocente. Não é que a gente seja burro, são vocês que não aceitam a REALIDADE.  É @jairbolsonaro 2018 sim, se não gostou vai pra cuba.\", \"Resumo do #RodaViva com BOLSONARO -Ditadura -Ditadura -Tortura -Quilombolas -Jesus era refugiado -Wikipedia -Ditadura - Exército Saúde? NÃO Saneamento básico? NÃO. Educação? NÃO.Segurança? NÃO.Não vimos uma entrevista. Vimos um folhetim esquerdista baseado na WIKIPEDIA!\", \"O Roda Viva empurrou mais a faixa para o Jair. @jairbolsonaro é uma espécie de Rocky Balboa, quanto mais apanha, levanta mais forte e motivado.\",\"É visível o ódio desses esquerdopatas pelo Bolsonaro. Se Deus quiser, Bolsonaro presidente,\", \"Porra hein, achei muita sacanagem esses jornalixos enchendo o saco do Bolsonaro, sinceramente nem acho que ele precisava disso, deve ser muito estressante pra ele 😤😤😡😡\", \"Fizeram de propósito só passado e mimimi para boicotar a entrevista\", \"Meu caro, você mitou grandemente! 😍\"]\n",
    "tweets_processed = [tweet.split() for tweet in tweets ]"
   ]
  },
  {
   "cell_type": "code",
   "execution_count": null,
   "metadata": {},
   "outputs": [],
   "source": [
    "tweets_processed"
   ]
  }
 ],
 "metadata": {
  "kernelspec": {
   "display_name": "Python 3",
   "language": "python",
   "name": "python3"
  },
  "language_info": {
   "codemirror_mode": {
    "name": "ipython",
    "version": 3
   },
   "file_extension": ".py",
   "mimetype": "text/x-python",
   "name": "python",
   "nbconvert_exporter": "python",
   "pygments_lexer": "ipython3",
   "version": "3.6.6"
  }
 },
 "nbformat": 4,
 "nbformat_minor": 2
}
