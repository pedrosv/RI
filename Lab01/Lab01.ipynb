{
 "cells": [
  {
   "cell_type": "markdown",
   "metadata": {},
   "source": [
    "# [Lab 01] Indice invertido"
   ]
  },
  {
   "cell_type": "code",
   "execution_count": 1,
   "metadata": {},
   "outputs": [],
   "source": [
    "import pandas as pd\n",
    "import nltk"
   ]
  },
  {
   "cell_type": "code",
   "execution_count": 2,
   "metadata": {},
   "outputs": [],
   "source": [
    "dados = pd.read_csv(\"noticias_estadao.csv\")"
   ]
  },
  {
   "cell_type": "markdown",
   "metadata": {},
   "source": [
    "Cria o indice invertido a partir do noticias_estadao.csv"
   ]
  },
  {
   "cell_type": "code",
   "execution_count": 3,
   "metadata": {},
   "outputs": [],
   "source": [
    "dados[\"noticia\"] = dados.titulo +\" \"+ dados.conteudo #cria nova coluna\n",
    "\n",
    "mapa_tokens = {}\n",
    "indice_invertido = {}\n",
    "\n",
    "#cria um mapa relacionando o indice da noticia e suas palavras\n",
    "for i in range(dados.noticia.count()):\n",
    "    tokens = set(nltk.word_tokenize(dados.noticia[i]))\n",
    "    mapa_tokens[dados.idNoticia[i]] = tokens\n",
    "\n",
    "#cria o indice invertido    \n",
    "for id_noticia, tokens in mapa_tokens.items():\n",
    "    for token in tokens:\n",
    "        token = token.lower()\n",
    "        if token in indice_invertido:\n",
    "            indice_invertido.get(token).add(id_noticia)\n",
    "        else:\n",
    "            indice_invertido[token] = set([id_noticia])\n"
   ]
  },
  {
   "cell_type": "markdown",
   "metadata": {},
   "source": [
    "Cria as funções que serão utilizadas para as buscas Booleanas"
   ]
  },
  {
   "cell_type": "code",
   "execution_count": 4,
   "metadata": {},
   "outputs": [],
   "source": [
    "def func_or(word1, word2):\n",
    "    return set(indice_invertido[word1] + indice_invertido[word2])\n",
    "    \n",
    "    \n",
    "def func_and(word1,word2):\n",
    "    return set(indice_invertido[word1]) and set(indice_invertido[word2])\n",
    "\n",
    "def and_conjuntivo(lista_palavras):\n",
    "    \n",
    "    ids_por_palavra = [indice_invertido.get(palavra) for palavra in lista_palavras]\n",
    "    \n",
    "    if None in ids_por_palavra:\n",
    "        return []\n",
    "    else:\n",
    "        resultado = set.intersection(*ids_por_palavra)\n",
    "        return list(resultado)\n",
    "    \n",
    "\n",
    "def search(entrada):\n",
    "    \n",
    "    # separa a entrada em termos para as operacoes de OR\n",
    "    termos_do_or = entrada.split(\"OR\")\n",
    "    termos_do_or = [termo.strip() for termo in termos_do_or]\n",
    "    \n",
    "    #resolve os ANDs de cada termo do OR\n",
    "    resultado_dos_ands = []\n",
    "    for elemento in termos_do_or:\n",
    "        termos_do_and = elemento.split(\"AND\")\n",
    "        termos_do_and = [termo.strip().lower() for termo in termos_do_and]\n",
    "        resultado_dos_ands.append(and_conjuntivo(termos_do_and))\n",
    "        \n",
    "    #resolve os ORs\n",
    "    result = set().union(*resultado_dos_ands)\n",
    "    return list(result)\n",
    "    "
   ]
  },
  {
   "cell_type": "markdown",
   "metadata": {},
   "source": [
    "\n",
    "# Testes"
   ]
  },
  {
   "cell_type": "markdown",
   "metadata": {},
   "source": [
    "1- debate, presidenciável (AND e OR)"
   ]
  },
  {
   "cell_type": "code",
   "execution_count": 5,
   "metadata": {},
   "outputs": [],
   "source": [
    "assert len(search(\"debate OR presidencial\")) == 1770\n",
    "assert len(search(\"debate AND presidencial\")) == 201"
   ]
  },
  {
   "cell_type": "markdown",
   "metadata": {},
   "source": [
    "2- presidenciáveis, corruptos (AND e OR)"
   ]
  },
  {
   "cell_type": "code",
   "execution_count": 6,
   "metadata": {},
   "outputs": [],
   "source": [
    "assert len(search(\"presidenciáveis OR corruptos\")) == 164\n",
    "assert len(search(\"presidenciáveis AND corruptos\")) == 0"
   ]
  },
  {
   "cell_type": "markdown",
   "metadata": {},
   "source": [
    "3- Belo, Horizonte (AND e OR)"
   ]
  },
  {
   "cell_type": "code",
   "execution_count": 7,
   "metadata": {},
   "outputs": [],
   "source": [
    "assert len(search(\"Belo OR Horizonte\")) == 331\n",
    "assert len(search(\"Belo AND Horizonte\")) == 242"
   ]
  },
  {
   "cell_type": "markdown",
   "metadata": {},
   "source": [
    "4- Campina, Grande, Paraíba"
   ]
  },
  {
   "cell_type": "code",
   "execution_count": 8,
   "metadata": {
    "scrolled": true
   },
   "outputs": [],
   "source": [
    "assert len(search(\"Campina AND Grande AND Paraíba\")) == 8"
   ]
  }
 ],
 "metadata": {
  "kernelspec": {
   "display_name": "Python 3",
   "language": "python",
   "name": "python3"
  },
  "language_info": {
   "codemirror_mode": {
    "name": "ipython",
    "version": 3
   },
   "file_extension": ".py",
   "mimetype": "text/x-python",
   "name": "python",
   "nbconvert_exporter": "python",
   "pygments_lexer": "ipython3",
   "version": "3.6.5"
  }
 },
 "nbformat": 4,
 "nbformat_minor": 2
}
